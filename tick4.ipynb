{
 "cells": [
  {
   "cell_type": "code",
   "execution_count": 70,
   "metadata": {},
   "outputs": [],
   "source": [
    "import numpy as np\n",
    "import pandas as pd\n",
    "import matplotlib.pyplot as plt"
   ]
  },
  {
   "cell_type": "code",
   "execution_count": 71,
   "metadata": {},
   "outputs": [],
   "source": [
    "# Utility functions\n",
    "\n",
    "# Calculate gini coeficient \n",
    "def gini(w):\n",
    "    N = w.size\n",
    "    numerator=0\n",
    "    denominator=0\n",
    "    w = np.sort(w)\n",
    "    G = 2*np.sum(np.arange(1,N+1)*w)/(N*np.sum(w)) - (1+1/N)\n",
    "    return G\n",
    "\n",
    "# Calculate the proportion of people who moved by more than one quintile\n",
    "def mobility(v,w):\n",
    "    vbins = np.percentile(v,[0,20,40,60,80,100])\n",
    "    wbins = np.percentile(w,[0,20,40,60,80,100])\n",
    "    vinds = np.digitize(v,vbins)\n",
    "    winds = np.digitize(w,wbins)\n",
    "    changes = np.absolute(winds-vinds)\n",
    "    return (np.sum(changes>1))/len(v)\n",
    "\n",
    "# Advanced kinetic exchange\n",
    "def kinetic_exchange(v,w):\n",
    "    R = np.random.random(size=v.size)\n",
    "    delta = R*np.minimum(v,w)\n",
    "    v+=delta\n",
    "    w-=delta\n",
    "    return (v,w)\n",
    "\n",
    "# Pairing\n",
    "def pairs(N):\n",
    "    arr = np.arange(N)\n",
    "    np.random.shuffle(arr)\n",
    "    return (arr[:int(N/2)],arr[int(N/2):])\n",
    "\n",
    "# wealth exchange once\n",
    "def kin_exchange_world(world):\n",
    "    vindex,windex = pairs(1000)\n",
    "    newv,neww = kinetic_exchange(world[vindex],world[windex])\n",
    "    world[vindex] = newv\n",
    "    world[windex] = neww\n",
    "    return world\n",
    "\n",
    "# Iteration\n",
    "def iterate_once(world,incomes,capreturn_econgrowth_ratio):\n",
    "    total_wealth = np.sum(world)\n",
    "    total_econgrowth = np.sum(incomes)\n",
    "    capreturn = total_econgrowth*capreturn_econgrowth_ratio\n",
    "    growth_factor = capreturn/total_econgrowth\n",
    "    world *= growth_factor\n",
    "    world += incomes\n",
    "    kin_exchange_world(world)\n",
    "    wealth_normalization(world)\n",
    "    return world\n",
    "\n",
    "# Normalise \n",
    "def wealth_normalization(world):\n",
    "    totalwealth = np.sum(world)\n",
    "    if totalwealth>1000:\n",
    "        world *= (1000/totalwealth)\n",
    "    return world\n"
   ]
  },
  {
   "cell_type": "code",
   "execution_count": 72,
   "metadata": {},
   "outputs": [],
   "source": [
    "# Initialize data\n",
    "# Per-timestep income of 1000 individuals \n",
    "incomes = np.random.normal(loc=0.5, scale=0.5,size=1000)\n",
    "people_wealth = incomes.copy()\n",
    "# Growth due to income = sum(incomes)"
   ]
  },
  {
   "cell_type": "code",
   "execution_count": 73,
   "metadata": {},
   "outputs": [],
   "source": [
    "# Return on capital < Growth due to income\n",
    "\n",
    "time_period = 500\n",
    "ratioo = 0.7\n",
    "world_1 = people_wealth.copy()\n",
    "ginis_1 = []\n",
    "for i in range(time_period):\n",
    "    iterate_once(world_1,incomes,ratioo)\n",
    "    ginis_1.append(gini(world_1.copy()))"
   ]
  },
  {
   "cell_type": "code",
   "execution_count": 65,
   "metadata": {},
   "outputs": [],
   "source": [
    "# Return on capital < Growth due to income\n",
    "\n",
    "time_period = 500\n",
    "ratioo = 10\n",
    "world_2 = people_wealth.copy()\n",
    "ginis_2 = []\n",
    "for i in range(time_period):\n",
    "    iterate_once(world_2,incomes,ratioo)\n",
    "    ginis_2.append(gini(world_2.copy()))"
   ]
  }
 ],
 "metadata": {
  "kernelspec": {
   "display_name": "base",
   "language": "python",
   "name": "python3"
  },
  "language_info": {
   "codemirror_mode": {
    "name": "ipython",
    "version": 3
   },
   "file_extension": ".py",
   "mimetype": "text/x-python",
   "name": "python",
   "nbconvert_exporter": "python",
   "pygments_lexer": "ipython3",
   "version": "3.9.13"
  },
  "orig_nbformat": 4,
  "vscode": {
   "interpreter": {
    "hash": "cb9217bf5acef914b45d719efd7a09638e51312250aef16a5d9d56ac442664fb"
   }
  }
 },
 "nbformat": 4,
 "nbformat_minor": 2
}
